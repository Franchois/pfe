{
 "cells": [
  {
   "cell_type": "code",
   "execution_count": 1,
   "metadata": {},
   "outputs": [
    {
     "data": {
      "text/plain": [
       "2"
      ]
     },
     "execution_count": 1,
     "metadata": {},
     "output_type": "execute_result"
    }
   ],
   "source": [
    "import approche_1.py"
   ]
  },
  {
   "cell_type": "code",
   "execution_count": null,
   "metadata": {},
   "outputs": [],
   "source": [
    "######################\n",
    "### TEST #####\n",
    "######################\n",
    "'''\n",
    "'''\n",
    "\n",
    "'''\n",
    "\n",
    "IndexList=['^GDAXI', '^FCHI', '^IBEX', '^AEX', '^BFX']\n",
    "endDate = dt.date(2018, 12, 31)\n",
    "startDate = endDate - dt.timedelta(days=252)\n",
    "\n",
    "meanReturns, covMatrix = get_data(IndexList, startDate, endDate)\n",
    "\n",
    "result = minimizeVariance(meanReturns, covMatrix, ['Germany', 'France', 'Spain', 'Netherlands','Belgium'], intensityTarget=100000, constraintSet=(0,1))\n",
    "weights_intensity = result[\"x\"]\n",
    "\n",
    "retour, std = portfolioPerformance(weights_intensity, meanReturns, covMatrix)\n",
    "\n",
    "each_intensite_carbon, tot_intensite_carbon = get_intensity_carbon(result[\"x\"], ['Germany', 'France', 'Spain', 'Netherlands','Belgium'])\n",
    "\n",
    "print(each_intensite_carbon)\n",
    "print(tot_intensite_carbon)\n",
    "\n",
    "#########\n",
    "\n",
    "result_after = minimizeVariance(meanReturns, covMatrix, ['Germany', 'France', 'Spain', 'Netherlands','Belgium'], benchmark = weights_intensity, intensityTarget=1.7e-10, constraintSet=(0,1))\n",
    "\n",
    "retour_after, std_after = portfolioPerformance(result_after['x'], meanReturns, covMatrix)\n",
    "\n",
    "each_intensite_carbon_after, tot_intensite_carbon_after = get_intensity_carbon(result_after[\"x\"], ['Germany', 'France', 'Spain', 'Netherlands','Belgium'])\n",
    "\n",
    "print(retour_after, std_after)\n",
    "print(each_intensite_carbon_after)\n",
    "print(tot_intensite_carbon_after)\n",
    "\n",
    "####\n",
    "\n",
    "GraphIC(meanReturns, covMatrix, ['Germany', 'France', 'Spain', 'Netherlands','Belgium'], benchmark=weights_intensity)\n",
    "\n",
    "\n",
    "'''\n",
    "'''\n",
    "[0.48894644 0.22011436 0.         0.         0.29093919]\n",
    "\n",
    "retour\n",
    "-0.21480983519048688\n",
    "\n",
    "std\n",
    "0.12406074733910856\n",
    "\n",
    "Intensite_carbon = 1.8184936856868873e-10\n",
    "-----------------------------\n",
    "\n",
    "Sans prendre en compte le risque carbonne :\n",
    "\n",
    "La volatilité  \n",
    "'''\n",
    "'''\n",
    "###########################################\n",
    "###########################################\n",
    "'''"
   ]
  },
  {
   "cell_type": "code",
   "execution_count": null,
   "metadata": {},
   "outputs": [],
   "source": []
  },
  {
   "cell_type": "code",
   "execution_count": null,
   "metadata": {},
   "outputs": [],
   "source": []
  },
  {
   "cell_type": "code",
   "execution_count": null,
   "metadata": {},
   "outputs": [],
   "source": []
  }
 ],
 "metadata": {
  "kernelspec": {
   "display_name": "Python 3",
   "language": "python",
   "name": "python3"
  },
  "language_info": {
   "codemirror_mode": {
    "name": "ipython",
    "version": 3
   },
   "file_extension": ".py",
   "mimetype": "text/x-python",
   "name": "python",
   "nbconvert_exporter": "python",
   "pygments_lexer": "ipython3",
   "version": "3.10.4 (tags/v3.10.4:9d38120, Mar 23 2022, 23:13:41) [MSC v.1929 64 bit (AMD64)]"
  },
  "orig_nbformat": 4,
  "vscode": {
   "interpreter": {
    "hash": "369f2c481f4da34e4445cda3fffd2e751bd1c4d706f27375911949ba6bb62e1c"
   }
  }
 },
 "nbformat": 4,
 "nbformat_minor": 2
}
